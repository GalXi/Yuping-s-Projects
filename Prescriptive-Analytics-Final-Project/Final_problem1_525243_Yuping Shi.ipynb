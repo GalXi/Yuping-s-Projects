{
 "cells": [
  {
   "cell_type": "code",
   "execution_count": 2,
   "id": "10e6f5d1-ef05-438a-9cb3-470c5a6d1a7d",
   "metadata": {},
   "outputs": [],
   "source": [
    "from pulp import *\n",
    "import pandas as pd"
   ]
  },
  {
   "cell_type": "markdown",
   "id": "af7e6ee1-0012-4a65-856e-de9e45c6de95",
   "metadata": {},
   "source": [
    "### Problem 1"
   ]
  },
  {
   "cell_type": "code",
   "execution_count": 4,
   "id": "12d26f8f-c538-46bf-bd6a-aba946b437b9",
   "metadata": {},
   "outputs": [],
   "source": [
    "#Define the LP problem\n",
    "prob1 = LpProblem(\"Problem1\", LpMinimize)\n",
    "rc = ['West','Midwest','East']\n",
    "nc = ['Ohio','NewJersey']\n",
    "months = ['Sept','Oct']\n",
    "tran_cost = 10\n",
    "n_inv_cost = 5\n",
    "r_inv_cost = 10\n",
    "\n",
    "#read data from excel file\n",
    "df_fx_trans = pd.read_excel('Problem1_tables.xlsx',sheet_name='Table1a')\n",
    "df_demand = pd.read_excel('Problem1_tables.xlsx',sheet_name='Table1b')\n",
    "df_inventory = pd.read_excel('Problem1_tables.xlsx',sheet_name='Table1c')\n",
    "n_fixed_tran_cost = df_fx_trans.iloc[2:4,2].values.tolist()\n",
    "r_fixed_tran_cost = df_fx_trans.iloc[4:,2].values.tolist()\n",
    "sept_demand = df_demand.iloc[[2, 4, 6], 2].values.tolist()\n",
    "oct_demand = df_demand.iloc[[3, 5, 7], 2].values.tolist()\n",
    "n_initial_inv = df_inventory.iloc[2:4,2].values.tolist()\n",
    "r_initial_inv = df_inventory.iloc[4:,2].values.tolist()\n",
    "\n",
    "#Set up parameters\n",
    "nftc = dict(zip(nc,n_fixed_tran_cost))\n",
    "\n",
    "ohio_ftc = r_fixed_tran_cost[0:2]\n",
    "nj_ftc = r_fixed_tran_cost[2:4]\n",
    "o_rftc = dict(zip(['West', 'Midwest'], ohio_ftc))\n",
    "nj_rftc = dict(zip(['Midwest', 'East'], nj_ftc))\n",
    "\n",
    "sd = dict(zip(rc,sept_demand))\n",
    "od = dict(zip(rc,oct_demand))\n",
    "ni = dict(zip(nc,n_initial_inv))\n",
    "ri = dict(zip(rc,r_initial_inv))\n"
   ]
  },
  {
   "cell_type": "code",
   "execution_count": 5,
   "id": "93b4415c-b36b-49c3-939f-edc9a1c5671d",
   "metadata": {},
   "outputs": [],
   "source": [
    "# Define decision variables\n",
    "n_ship = LpVariable.dicts(\"nc\", [(m,n) for m in months for n in nc], lowBound=0, cat='Continuous')\n",
    "r_ship = LpVariable.dicts(\"rc\", [(m, n, r) for m in months for n in nc for r in rc], lowBound=0, cat='Continuous')\n",
    "n_vars = LpVariable.dicts(\"nh_to_nc\", [(m, n) for m in months for n in nc], cat='Binary')\n",
    "r_vars = LpVariable.dicts(\"nc_to_rc\", [(m, n, r) for m in months for n in nc for r in rc], cat='Binary')\n",
    "n_inv = LpVariable.dicts(\"n_inv\", [(m, n) for m in months for n in nc], lowBound=0, cat='Continuous')\n",
    "r_inv = LpVariable.dicts(\"r_inv\", [(m, r) for m in months for r in rc], lowBound=0, cat='Continuous')"
   ]
  },
  {
   "cell_type": "code",
   "execution_count": 6,
   "id": "d3d9997b-98ba-4c81-8248-62a29fb31825",
   "metadata": {},
   "outputs": [],
   "source": [
    "# Objective Function\n",
    "prob1 += lpSum([tran_cost * n_ship[(m, n)] for m in months for n in nc] +\n",
    "    [tran_cost * r_ship[(m, n, r)] for m in months for n in nc for r in rc] +\n",
    "    [n_inv_cost * n_inv[(m, n)] for m in months for n in nc] +\n",
    "    [r_inv_cost * r_inv[(m, r)] for m in months for r in rc] +\n",
    "    [nftc[n] * n_vars[(m, n)] for m in months for n in nc] +\n",
    "    [o_rftc[r] * r_vars[(m, 'Ohio', r)] for m in months for r in o_rftc] +\n",
    "    [nj_rftc[r] * r_vars[(m, 'NewJersey', r)] for m in months for r in nj_rftc]), \"Total_Cost\"\n",
    "\n",
    "# Production Capacity Constraint\n",
    "for m in months:\n",
    "    for n in nc:\n",
    "        prob1 += lpSum(n_ship[(m, n)] for n in nc) <= 50000 #* n_vars[(m, n)]\n",
    "\n",
    "# Setting Binary Contraints\n",
    "A = 100000\n",
    "for m in months:\n",
    "    for n in nc:\n",
    "        prob1 += n_ship[(m, n)] <= n_vars[(m, n)] * A\n",
    "        for r in rc:\n",
    "            prob1 += r_ship[(m, n, r)] <= r_vars[(m, n, r)] * A\n",
    "\n",
    "# Transportation Constraint\n",
    "for m in months:\n",
    "    prob1 += r_ship[(m,'Ohio','East')] == 0\n",
    "    prob1 += r_ship[(m,'NewJersey','West')] == 0\n",
    "    prob1 += r_vars[(m,'Ohio','East')] == 0\n",
    "    prob1 += r_vars[(m,'NewJersey','West')] == 0\n",
    "\n",
    "# Shipping Capacity Constraint\n",
    "for m in months:\n",
    "    for n in nc:\n",
    "        if m == 'Sept':\n",
    "            prob1 += ni[n] + n_ship[(m, n)] >= lpSum(r_ship[(m, n, r)] for r in rc)\n",
    "        else:\n",
    "            prob1 += n_inv[('Sept', n)] + n_ship[(m, n)] >= lpSum(r_ship[(m, n, r)] for r in rc)\n",
    "\n",
    "for m in months:\n",
    "    if m == 'Sept':\n",
    "        for r in rc:\n",
    "            prob1 += lpSum([r_ship[(m, n, r)] for n in nc]) + ri[r] >= sd[r]\n",
    "    else:\n",
    "        for r in rc:\n",
    "            prob1 += lpSum([r_ship[(m, n, r)] for n in nc]) + r_inv[('Sept', r)] >= od[r]\n",
    "            \n",
    "# Inventory Constraint\n",
    "for m in months:\n",
    "    if m == 'Sept':\n",
    "        for n in nc:\n",
    "            prob1 += n_inv[(m, n)] == ni[n] + n_ship[(m, n)] - lpSum([r_ship[(m, n, r)] for r in rc])\n",
    "        for r in rc:\n",
    "            prob1 += r_inv[(m, r)] == ri[r] + lpSum([r_ship[(m, n, r)] for n in nc]) - sd[r]\n",
    "    else:\n",
    "        for n in nc:\n",
    "            prob1 += n_inv[(m, n)] == n_inv[('Sept', n)] + n_ship[(m, n)] - lpSum([r_ship[(m, n, r)] for r in rc])\n",
    "        for r in rc:\n",
    "            prob1 += r_inv[(m, r)] == r_inv[('Sept', r)] + lpSum([r_ship[(m, n, r)] for n in nc]) - od[r]"
   ]
  },
  {
   "cell_type": "code",
   "execution_count": 7,
   "id": "086d016a-c0e3-4645-a3fd-8af0876f7ba3",
   "metadata": {},
   "outputs": [
    {
     "name": "stdout",
     "output_type": "stream",
     "text": [
      "Status: Optimal\n"
     ]
    }
   ],
   "source": [
    "prob1.solve()\n",
    "print(\"Status:\",LpStatus[prob1.status])"
   ]
  },
  {
   "cell_type": "code",
   "execution_count": 8,
   "id": "52710ad5-db44-4b6d-afd4-834b70a8a8b0",
   "metadata": {
    "scrolled": true
   },
   "outputs": [
    {
     "name": "stdout",
     "output_type": "stream",
     "text": [
      "n_inv_('Oct',_'NewJersey') = 0.0\n",
      "n_inv_('Oct',_'Ohio') = 0.0\n",
      "n_inv_('Sept',_'NewJersey') = 5000.0\n",
      "n_inv_('Sept',_'Ohio') = 20000.0\n",
      "nc_('Oct',_'NewJersey') = 50000.0\n",
      "nc_('Oct',_'Ohio') = 0.0\n",
      "nc_('Sept',_'NewJersey') = 18000.0\n",
      "nc_('Sept',_'Ohio') = 32000.0\n",
      "nc_to_rc_('Oct',_'NewJersey',_'East') = 1.0\n",
      "nc_to_rc_('Oct',_'NewJersey',_'Midwest') = 1.0\n",
      "nc_to_rc_('Oct',_'NewJersey',_'West') = 0.0\n",
      "nc_to_rc_('Oct',_'Ohio',_'East') = 0.0\n",
      "nc_to_rc_('Oct',_'Ohio',_'Midwest') = 0.0\n",
      "nc_to_rc_('Oct',_'Ohio',_'West') = 1.0\n",
      "nc_to_rc_('Sept',_'NewJersey',_'East') = 1.0\n",
      "nc_to_rc_('Sept',_'NewJersey',_'Midwest') = 0.0\n",
      "nc_to_rc_('Sept',_'NewJersey',_'West') = 0.0\n",
      "nc_to_rc_('Sept',_'Ohio',_'East') = 0.0\n",
      "nc_to_rc_('Sept',_'Ohio',_'Midwest') = 1.0\n",
      "nc_to_rc_('Sept',_'Ohio',_'West') = 1.0\n",
      "nh_to_nc_('Oct',_'NewJersey') = 1.0\n",
      "nh_to_nc_('Oct',_'Ohio') = 0.0\n",
      "nh_to_nc_('Sept',_'NewJersey') = 1.0\n",
      "nh_to_nc_('Sept',_'Ohio') = 1.0\n",
      "r_inv_('Oct',_'East') = 0.0\n",
      "r_inv_('Oct',_'Midwest') = 0.0\n",
      "r_inv_('Oct',_'West') = 0.0\n",
      "r_inv_('Sept',_'East') = 0.0\n",
      "r_inv_('Sept',_'Midwest') = 0.0\n",
      "r_inv_('Sept',_'West') = 0.0\n",
      "rc_('Oct',_'NewJersey',_'East') = 30000.0\n",
      "rc_('Oct',_'NewJersey',_'Midwest') = 25000.0\n",
      "rc_('Oct',_'NewJersey',_'West') = 0.0\n",
      "rc_('Oct',_'Ohio',_'East') = 0.0\n",
      "rc_('Oct',_'Ohio',_'Midwest') = 0.0\n",
      "rc_('Oct',_'Ohio',_'West') = 20000.0\n",
      "rc_('Sept',_'NewJersey',_'East') = 23000.0\n",
      "rc_('Sept',_'NewJersey',_'Midwest') = 0.0\n",
      "rc_('Sept',_'NewJersey',_'West') = 0.0\n",
      "rc_('Sept',_'Ohio',_'East') = 0.0\n",
      "rc_('Sept',_'Ohio',_'Midwest') = 14000.0\n",
      "rc_('Sept',_'Ohio',_'West') = 18000.0\n",
      "Total Cost= 2460000.0\n"
     ]
    }
   ],
   "source": [
    "for v in prob1.variables():\n",
    "    print(v.name, \"=\", v.varValue)\n",
    "print(\"Total Cost=\", value(prob1.objective))"
   ]
  },
  {
   "cell_type": "markdown",
   "id": "a35d999f-8b35-47e9-969b-dfdf680413c5",
   "metadata": {},
   "source": [
    "### The Optimal Cost is 2460000.0"
   ]
  }
 ],
 "metadata": {
  "kernelspec": {
   "display_name": "Python 3 (ipykernel)",
   "language": "python",
   "name": "python3"
  },
  "language_info": {
   "codemirror_mode": {
    "name": "ipython",
    "version": 3
   },
   "file_extension": ".py",
   "mimetype": "text/x-python",
   "name": "python",
   "nbconvert_exporter": "python",
   "pygments_lexer": "ipython3",
   "version": "3.12.3"
  }
 },
 "nbformat": 4,
 "nbformat_minor": 5
}
