{
 "cells": [
  {
   "cell_type": "markdown",
   "id": "b3a92ee3-ea44-4480-a75b-6a8cb0c15f84",
   "metadata": {},
   "source": [
    "1- Description of the data:\n",
    "Let us know how you use the data. How many rows? How many columns? How many nulls are in each? Have you removed any part? How do you work on the nulls? Do you do any transformation? Did you see troubles with the size of the data? "
   ]
  },
  {
   "cell_type": "code",
   "execution_count": 2,
   "id": "99bf2dd0-0490-4db3-a31b-4183d1dac7ef",
   "metadata": {},
   "outputs": [],
   "source": [
    "import findspark\n",
    "findspark.init()\n",
    "import pyspark\n",
    "from pyspark.sql import SparkSession\n",
    "spark = SparkSession.builder.master('local[*]').appName('null_cnt').getOrCreate()\n",
    "sc = spark.sparkContext"
   ]
  },
  {
   "cell_type": "code",
   "execution_count": 3,
   "id": "4fb835bb-b205-4f25-9417-e93abf7f8f40",
   "metadata": {},
   "outputs": [],
   "source": [
    "df1 = spark.read.csv('anxiety_merged_With_Covid_Index.csv', sep=\",\",header=True, inferSchema=True)"
   ]
  },
  {
   "cell_type": "code",
   "execution_count": 4,
   "id": "6cb5f757-9250-40aa-9cc6-34f5eed6889b",
   "metadata": {},
   "outputs": [
    {
     "data": {
      "text/html": [
       "<div>\n",
       "<style scoped>\n",
       "    .dataframe tbody tr th:only-of-type {\n",
       "        vertical-align: middle;\n",
       "    }\n",
       "\n",
       "    .dataframe tbody tr th {\n",
       "        vertical-align: top;\n",
       "    }\n",
       "\n",
       "    .dataframe thead th {\n",
       "        text-align: right;\n",
       "    }\n",
       "</style>\n",
       "<table border=\"1\" class=\"dataframe\">\n",
       "  <thead>\n",
       "    <tr style=\"text-align: right;\">\n",
       "      <th></th>\n",
       "      <th>summary</th>\n",
       "      <th>ISR</th>\n",
       "      <th>CASE</th>\n",
       "      <th>AGE</th>\n",
       "      <th>GNDR_COD</th>\n",
       "      <th>WT</th>\n",
       "      <th>PT</th>\n",
       "      <th>OUTC_COD</th>\n",
       "      <th>DRUGNAME</th>\n",
       "      <th>INDI_PT</th>\n",
       "      <th>YEAR</th>\n",
       "      <th>COVID</th>\n",
       "    </tr>\n",
       "  </thead>\n",
       "  <tbody>\n",
       "    <tr>\n",
       "      <th>0</th>\n",
       "      <td>count</td>\n",
       "      <td>1910209</td>\n",
       "      <td>1910209</td>\n",
       "      <td>1587621</td>\n",
       "      <td>1910209</td>\n",
       "      <td>1184492</td>\n",
       "      <td>1908302</td>\n",
       "      <td>1680054</td>\n",
       "      <td>1910209</td>\n",
       "      <td>1910209</td>\n",
       "      <td>1910209</td>\n",
       "      <td>1910209</td>\n",
       "    </tr>\n",
       "    <tr>\n",
       "      <th>1</th>\n",
       "      <td>mean</td>\n",
       "      <td>2.0336054932512674E8</td>\n",
       "      <td>1.2029393191069145E7</td>\n",
       "      <td>49.50857323291282</td>\n",
       "      <td>None</td>\n",
       "      <td>74.87460973834304</td>\n",
       "      <td>None</td>\n",
       "      <td>None</td>\n",
       "      <td>1.2102004E7</td>\n",
       "      <td>None</td>\n",
       "      <td>2015.0673177647054</td>\n",
       "      <td>None</td>\n",
       "    </tr>\n",
       "    <tr>\n",
       "      <th>2</th>\n",
       "      <td>stddev</td>\n",
       "      <td>3.878669971080241E8</td>\n",
       "      <td>5039070.996941432</td>\n",
       "      <td>18.129432003719835</td>\n",
       "      <td>None</td>\n",
       "      <td>27.423436054070503</td>\n",
       "      <td>None</td>\n",
       "      <td>None</td>\n",
       "      <td>0.0</td>\n",
       "      <td>None</td>\n",
       "      <td>5.320585643961081</td>\n",
       "      <td>None</td>\n",
       "    </tr>\n",
       "    <tr>\n",
       "      <th>3</th>\n",
       "      <td>min</td>\n",
       "      <td>4262067</td>\n",
       "      <td>3159819.0</td>\n",
       "      <td>-5.0</td>\n",
       "      <td>F</td>\n",
       "      <td>0.0</td>\n",
       "      <td>5-HYDROXYINDOLACETIC ACID IN URINE INCREASED</td>\n",
       "      <td>CA</td>\n",
       "      <td>ESCITALOPRAM</td>\n",
       "      <td>anxiety</td>\n",
       "      <td>2004</td>\n",
       "      <td>N</td>\n",
       "    </tr>\n",
       "    <tr>\n",
       "      <th>4</th>\n",
       "      <td>25%</td>\n",
       "      <td>7424881</td>\n",
       "      <td>7555702.0</td>\n",
       "      <td>39.0</td>\n",
       "      <td>None</td>\n",
       "      <td>60.771</td>\n",
       "      <td>None</td>\n",
       "      <td>None</td>\n",
       "      <td>1.2102004E7</td>\n",
       "      <td>None</td>\n",
       "      <td>2011</td>\n",
       "      <td>None</td>\n",
       "    </tr>\n",
       "    <tr>\n",
       "      <th>5</th>\n",
       "      <td>50%</td>\n",
       "      <td>118130011</td>\n",
       "      <td>1.1299346E7</td>\n",
       "      <td>51.0</td>\n",
       "      <td>None</td>\n",
       "      <td>73.47</td>\n",
       "      <td>None</td>\n",
       "      <td>None</td>\n",
       "      <td>1.2102004E7</td>\n",
       "      <td>None</td>\n",
       "      <td>2016</td>\n",
       "      <td>None</td>\n",
       "    </tr>\n",
       "    <tr>\n",
       "      <th>6</th>\n",
       "      <td>75%</td>\n",
       "      <td>174023611</td>\n",
       "      <td>1.6168897E7</td>\n",
       "      <td>62.0</td>\n",
       "      <td>None</td>\n",
       "      <td>90.6</td>\n",
       "      <td>None</td>\n",
       "      <td>None</td>\n",
       "      <td>1.2102004E7</td>\n",
       "      <td>None</td>\n",
       "      <td>2020</td>\n",
       "      <td>None</td>\n",
       "    </tr>\n",
       "    <tr>\n",
       "      <th>7</th>\n",
       "      <td>max</td>\n",
       "      <td>2237453814</td>\n",
       "      <td>2.3015152E7</td>\n",
       "      <td>106.0</td>\n",
       "      <td>M</td>\n",
       "      <td>1109.8</td>\n",
       "      <td>pH urine increased</td>\n",
       "      <td>RI</td>\n",
       "      <td>zopiclone</td>\n",
       "      <td>anxiety</td>\n",
       "      <td>2023</td>\n",
       "      <td>Y</td>\n",
       "    </tr>\n",
       "  </tbody>\n",
       "</table>\n",
       "</div>"
      ],
      "text/plain": [
       "  summary                   ISR                  CASE                 AGE  \\\n",
       "0   count               1910209               1910209             1587621   \n",
       "1    mean  2.0336054932512674E8  1.2029393191069145E7   49.50857323291282   \n",
       "2  stddev   3.878669971080241E8     5039070.996941432  18.129432003719835   \n",
       "3     min               4262067             3159819.0                -5.0   \n",
       "4     25%               7424881             7555702.0                39.0   \n",
       "5     50%             118130011           1.1299346E7                51.0   \n",
       "6     75%             174023611           1.6168897E7                62.0   \n",
       "7     max            2237453814           2.3015152E7               106.0   \n",
       "\n",
       "  GNDR_COD                  WT                                            PT  \\\n",
       "0  1910209             1184492                                       1908302   \n",
       "1     None   74.87460973834304                                          None   \n",
       "2     None  27.423436054070503                                          None   \n",
       "3        F                 0.0  5-HYDROXYINDOLACETIC ACID IN URINE INCREASED   \n",
       "4     None              60.771                                          None   \n",
       "5     None               73.47                                          None   \n",
       "6     None                90.6                                          None   \n",
       "7        M              1109.8                            pH urine increased   \n",
       "\n",
       "  OUTC_COD        DRUGNAME  INDI_PT                YEAR    COVID  \n",
       "0  1680054         1910209  1910209             1910209  1910209  \n",
       "1     None     1.2102004E7     None  2015.0673177647054     None  \n",
       "2     None             0.0     None   5.320585643961081     None  \n",
       "3       CA    ESCITALOPRAM  anxiety                2004        N  \n",
       "4     None     1.2102004E7     None                2011     None  \n",
       "5     None     1.2102004E7     None                2016     None  \n",
       "6     None     1.2102004E7     None                2020     None  \n",
       "7       RI       zopiclone  anxiety                2023        Y  "
      ]
     },
     "execution_count": 4,
     "metadata": {},
     "output_type": "execute_result"
    }
   ],
   "source": [
    "# 发现年龄有负数\n",
    "df1.summary().toPandas()"
   ]
  },
  {
   "cell_type": "code",
   "execution_count": 5,
   "id": "54d1ddbc-0cc7-4ca0-86cb-39d0473f30cb",
   "metadata": {},
   "outputs": [
    {
     "name": "stdout",
     "output_type": "stream",
     "text": [
      "+--------+----------+\n",
      "|OUTC_COD|count(ISR)|\n",
      "+--------+----------+\n",
      "|      OT|       790|\n",
      "|      CA|       755|\n",
      "|      HO|       717|\n",
      "|      DE|       110|\n",
      "|      LT|        91|\n",
      "|    null|        10|\n",
      "+--------+----------+\n",
      "\n"
     ]
    }
   ],
   "source": [
    "# 发现除了OT和HO，CA（先天异常）占比很大，认为可以直接把-1~-5转化为1~5，猜测可能是数据集读取问题\n",
    "from pyspark.sql.functions import *\n",
    "df2 = df1.filter(\"AGE < 0\").select(\"*\")\n",
    "df2.groupBy('OUTC_COD').agg(count(\"ISR\")).orderBy(count(\"ISR\"), ascending = False).show()"
   ]
  },
  {
   "cell_type": "code",
   "execution_count": 6,
   "id": "7f9d968e-7f26-4315-9ca5-d8714a4c94c7",
   "metadata": {},
   "outputs": [],
   "source": [
    "# 用ABS解决这个问题\n",
    "from pyspark.sql.functions import abs as spark_abs\n",
    "df1 = df1.withColumn('AGE', spark_abs(df1['AGE']))"
   ]
  },
  {
   "cell_type": "code",
   "execution_count": 7,
   "id": "16e3e075-bedb-4c97-b532-0bb46e5a0332",
   "metadata": {},
   "outputs": [
    {
     "name": "stdout",
     "output_type": "stream",
     "text": [
      "The number of rows:  1910209\n",
      "The number of columns:  11\n"
     ]
    }
   ],
   "source": [
    "#dataframe的基本情况，包括行和列\n",
    "print('The number of rows: ',df1.count())\n",
    "print('The number of columns: ',len(df1.columns))"
   ]
  },
  {
   "cell_type": "code",
   "execution_count": 8,
   "id": "7c5bbba6-6603-40ff-b84d-5008d4cbf624",
   "metadata": {},
   "outputs": [
    {
     "name": "stdout",
     "output_type": "stream",
     "text": [
      "+---+----+------+--------+------+----+--------+--------+-------+----+-----+\n",
      "|ISR|CASE|   AGE|GNDR_COD|    WT|  PT|OUTC_COD|DRUGNAME|INDI_PT|YEAR|COVID|\n",
      "+---+----+------+--------+------+----+--------+--------+-------+----+-----+\n",
      "|  0|   0|322588|       0|725717|1907|  230155|       0|      0|   0|    0|\n",
      "+---+----+------+--------+------+----+--------+--------+-------+----+-----+\n",
      "\n"
     ]
    }
   ],
   "source": [
    "from pyspark.sql.functions import *\n",
    "#利用pyspark查看各列的空值情况\n",
    "cnt_na = df1.select([count(when(col(c).contains('None') | \\\n",
    "                     col(c).contains('NULL') | \\\n",
    "                     (col(c)=='') | \\\n",
    "                     col(c).isNull() |\\\n",
    "                     isnan(c), c\n",
    "                     )).alias(c)\n",
    "          for c in df1.columns])\n",
    "cnt_na.show()"
   ]
  },
  {
   "cell_type": "code",
   "execution_count": 9,
   "id": "b0ad7202-49f5-4c59-ae3a-e0cc9a74c4c2",
   "metadata": {},
   "outputs": [
    {
     "name": "stdout",
     "output_type": "stream",
     "text": [
      "+--------+\n",
      "|GNDR_COD|\n",
      "+--------+\n",
      "|       F|\n",
      "|       M|\n",
      "+--------+\n",
      "\n"
     ]
    }
   ],
   "source": [
    "#查看性别类型\n",
    "df1.select('GNDR_COD').distinct().show()"
   ]
  },
  {
   "cell_type": "code",
   "execution_count": 10,
   "id": "8b69d670-f818-44dc-b1dc-8d5795d3cf10",
   "metadata": {},
   "outputs": [
    {
     "name": "stdout",
     "output_type": "stream",
     "text": [
      "+-------+---------+----+--------+-----------------+--------------------+--------+--------+-------+----+-----+\n",
      "|    ISR|     CASE| AGE|GNDR_COD|               WT|                  PT|OUTC_COD|DRUGNAME|INDI_PT|YEAR|COVID|\n",
      "+-------+---------+----+--------+-----------------+--------------------+--------+--------+-------+----+-----+\n",
      "|4262067|4053575.0|41.0|       F| 72.6419470689881|             AMNESIA|      OT| SEROXAT|anxiety|2004|    N|\n",
      "|4262067|4053575.0|41.0|       F| 72.6419470689881|           DIZZINESS|      OT| SEROXAT|anxiety|2004|    N|\n",
      "|4262067|4053575.0|41.0|       F| 72.6419470689881|     DRUG DEPENDENCE|      OT| SEROXAT|anxiety|2004|    N|\n",
      "|4262067|4053575.0|41.0|       F| 72.6419470689881|DRUG WITHDRAWAL S...|      OT| SEROXAT|anxiety|2004|    N|\n",
      "|4262067|4053575.0|41.0|       F| 72.6419470689881|    FEELING ABNORMAL|      OT| SEROXAT|anxiety|2004|    N|\n",
      "|4262067|4053575.0|41.0|       F| 72.6419470689881|            HEADACHE|      OT| SEROXAT|anxiety|2004|    N|\n",
      "|4262067|4053575.0|41.0|       F| 72.6419470689881|      LOSS OF LIBIDO|      OT| SEROXAT|anxiety|2004|    N|\n",
      "|4262067|4053575.0|41.0|       F| 72.6419470689881|   MEMORY IMPAIRMENT|      OT| SEROXAT|anxiety|2004|    N|\n",
      "|4262067|4053575.0|41.0|       F| 72.6419470689881|         MOOD SWINGS|      OT| SEROXAT|anxiety|2004|    N|\n",
      "|4262067|4053575.0|41.0|       F| 72.6419470689881|              NAUSEA|      OT| SEROXAT|anxiety|2004|    N|\n",
      "|4262067|4053575.0|41.0|       F| 72.6419470689881|                PAIN|      OT| SEROXAT|anxiety|2004|    N|\n",
      "|4262067|4053575.0|41.0|       F| 72.6419470689881|        PARAESTHESIA|      OT| SEROXAT|anxiety|2004|    N|\n",
      "|4262067|4053575.0|41.0|       F| 72.6419470689881|     SELF-MEDICATION|      OT| SEROXAT|anxiety|2004|    N|\n",
      "|4262067|4053575.0|41.0|       F| 72.6419470689881|SOCIAL AVOIDANT B...|      OT| SEROXAT|anxiety|2004|    N|\n",
      "|4262067|4053575.0|41.0|       F| 72.6419470689881|          SOMNOLENCE|      OT| SEROXAT|anxiety|2004|    N|\n",
      "|4262067|4053575.0|41.0|       F| 72.6419470689881|              TREMOR|      OT| SEROXAT|anxiety|2004|    N|\n",
      "|4262067|4053575.0|41.0|       F| 72.6419470689881|    WEIGHT INCREASED|      OT| SEROXAT|anxiety|2004|    N|\n",
      "|4262921|4060681.0|33.0|       F|79.83219199999999|           DIZZINESS|    null|   PAXIL|anxiety|2004|    N|\n",
      "|4262921|4060681.0|33.0|       F|79.83219199999999|             FATIGUE|    null|   PAXIL|anxiety|2004|    N|\n",
      "|4262921|4060681.0|33.0|       F|79.83219199999999|GASTROINTESTINAL ...|    null|   PAXIL|anxiety|2004|    N|\n",
      "+-------+---------+----+--------+-----------------+--------------------+--------+--------+-------+----+-----+\n",
      "only showing top 20 rows\n",
      "\n"
     ]
    }
   ],
   "source": [
    "#分别计算男性和女性的平均体重\n",
    "from pyspark.sql.functions import *\n",
    "mean_by_gender = df1.groupBy('GNDR_COD').agg(mean('WT').alias('mean_WT'))\n",
    "mean_male = mean_by_gender.filter(mean_by_gender['GNDR_COD'] == 'M').select('mean_WT').collect()[0][0]\n",
    "mean_female = mean_by_gender.filter(mean_by_gender['GNDR_COD'] == 'F').select('mean_WT').collect()[0][0]\n",
    "#用平均体重替换男女体重为空值的cell\n",
    "df2 = df1.withColumn(\n",
    "    'WT', \n",
    "    when(df1['GNDR_COD'] == 'M', when(df1['WT'].isNull(), mean_male).otherwise(df1['WT']))\n",
    "    .otherwise(when(df1['WT'].isNull(), mean_female).otherwise(df1['WT'])))\n",
    "df2.show()"
   ]
  },
  {
   "cell_type": "code",
   "execution_count": 11,
   "id": "0134e402-84d4-4f1b-ae8a-fca64143beb2",
   "metadata": {},
   "outputs": [
    {
     "name": "stdout",
     "output_type": "stream",
     "text": [
      "+---+----+------+--------+---+----+--------+--------+-------+----+-----+\n",
      "|ISR|CASE|   AGE|GNDR_COD| WT|  PT|OUTC_COD|DRUGNAME|INDI_PT|YEAR|COVID|\n",
      "+---+----+------+--------+---+----+--------+--------+-------+----+-----+\n",
      "|  0|   0|322588|       0|  0|1907|  230155|       0|      0|   0|    0|\n",
      "+---+----+------+--------+---+----+--------+--------+-------+----+-----+\n",
      "\n"
     ]
    }
   ],
   "source": [
    "#查看当前空值情况\n",
    "cnt_na2 = df2.select([count(when(col(c).contains('None') | \\\n",
    "                     col(c).contains('NULL') | \\\n",
    "                     (col(c)=='') | \\\n",
    "                     col(c).isNull() |\\\n",
    "                     isnan(c), c\n",
    "                     )).alias(c)\n",
    "          for c in df2.columns])\n",
    "cnt_na2.show()"
   ]
  },
  {
   "cell_type": "code",
   "execution_count": 12,
   "id": "f5466155-220a-43a2-949d-04db02bb8b47",
   "metadata": {},
   "outputs": [
    {
     "data": {
      "text/plain": [
       "55114"
      ]
     },
     "execution_count": 12,
     "metadata": {},
     "output_type": "execute_result"
    }
   ],
   "source": [
    "#查看同时满足年龄和OUTC_COD为空值的情况\n",
    "df_with_null_check = df2.withColumn(\"both_null\", when(col(\"AGE\").isNull() & col(\"OUTC_COD\").isNull(), True).otherwise(False))\n",
    "df_filtered = df_with_null_check.filter(col(\"both_null\"))\n",
    "df_filtered.count()"
   ]
  },
  {
   "cell_type": "code",
   "execution_count": 13,
   "id": "2a0d3d09-18cb-4782-a5de-fdf50541f10b",
   "metadata": {},
   "outputs": [
    {
     "name": "stdout",
     "output_type": "stream",
     "text": [
      "+---+----+------+--------+---+----+--------+--------+-------+----+-----+\n",
      "|ISR|CASE|   AGE|GNDR_COD| WT|  PT|OUTC_COD|DRUGNAME|INDI_PT|YEAR|COVID|\n",
      "+---+----+------+--------+---+----+--------+--------+-------+----+-----+\n",
      "|  0|   0|267474|       0|  0|1827|  175041|       0|      0|   0|    0|\n",
      "+---+----+------+--------+---+----+--------+--------+-------+----+-----+\n",
      "\n"
     ]
    }
   ],
   "source": [
    "#数量上可以接受，于是drop rows where age and outc_cod are both nulls\n",
    "df3 = df2.withColumn(\"both_null\", when(col(\"AGE\").isNull() & col(\"OUTC_COD\").isNull(), True).otherwise(False))\n",
    "df4 = df3.where(df3['both_null'] != True)\n",
    "df5 = df4.drop('both_null')\n",
    "#查看当前空值情况\n",
    "cnt_na5 = df5.select([count(when(col(c).contains('None') | \\\n",
    "                     col(c).contains('NULL') | \\\n",
    "                     (col(c)=='') | \\\n",
    "                     col(c).isNull() |\\\n",
    "                     isnan(c), c\n",
    "                     )).alias(c)\n",
    "          for c in df5.columns])\n",
    "cnt_na5.show()"
   ]
  },
  {
   "cell_type": "code",
   "execution_count": 14,
   "id": "91c4679e-ca46-4f1c-b671-d9a0b647b525",
   "metadata": {},
   "outputs": [
    {
     "name": "stdout",
     "output_type": "stream",
     "text": [
      "+--------+\n",
      "|OUTC_COD|\n",
      "+--------+\n",
      "|      LT|\n",
      "|    null|\n",
      "|      RI|\n",
      "|      CA|\n",
      "|      HO|\n",
      "|      DE|\n",
      "|      DS|\n",
      "|      OT|\n",
      "+--------+\n",
      "\n"
     ]
    }
   ],
   "source": [
    "#查看OUTC_COD类型\n",
    "df5.select('OUTC_COD').distinct().show()"
   ]
  },
  {
   "cell_type": "code",
   "execution_count": 15,
   "id": "68010375-48b2-4ed6-bc85-8b800153776f",
   "metadata": {},
   "outputs": [
    {
     "name": "stdout",
     "output_type": "stream",
     "text": [
      "+-------+---------+----+--------+-----------------+--------------------+--------+--------+-------+----+-----+\n",
      "|    ISR|     CASE| AGE|GNDR_COD|               WT|                  PT|OUTC_COD|DRUGNAME|INDI_PT|YEAR|COVID|\n",
      "+-------+---------+----+--------+-----------------+--------------------+--------+--------+-------+----+-----+\n",
      "|4262067|4053575.0|41.0|       F| 72.6419470689881|             AMNESIA|      OT| SEROXAT|anxiety|2004|    N|\n",
      "|4262067|4053575.0|41.0|       F| 72.6419470689881|           DIZZINESS|      OT| SEROXAT|anxiety|2004|    N|\n",
      "|4262067|4053575.0|41.0|       F| 72.6419470689881|     DRUG DEPENDENCE|      OT| SEROXAT|anxiety|2004|    N|\n",
      "|4262067|4053575.0|41.0|       F| 72.6419470689881|DRUG WITHDRAWAL S...|      OT| SEROXAT|anxiety|2004|    N|\n",
      "|4262067|4053575.0|41.0|       F| 72.6419470689881|    FEELING ABNORMAL|      OT| SEROXAT|anxiety|2004|    N|\n",
      "|4262067|4053575.0|41.0|       F| 72.6419470689881|            HEADACHE|      OT| SEROXAT|anxiety|2004|    N|\n",
      "|4262067|4053575.0|41.0|       F| 72.6419470689881|      LOSS OF LIBIDO|      OT| SEROXAT|anxiety|2004|    N|\n",
      "|4262067|4053575.0|41.0|       F| 72.6419470689881|   MEMORY IMPAIRMENT|      OT| SEROXAT|anxiety|2004|    N|\n",
      "|4262067|4053575.0|41.0|       F| 72.6419470689881|         MOOD SWINGS|      OT| SEROXAT|anxiety|2004|    N|\n",
      "|4262067|4053575.0|41.0|       F| 72.6419470689881|              NAUSEA|      OT| SEROXAT|anxiety|2004|    N|\n",
      "|4262067|4053575.0|41.0|       F| 72.6419470689881|                PAIN|      OT| SEROXAT|anxiety|2004|    N|\n",
      "|4262067|4053575.0|41.0|       F| 72.6419470689881|        PARAESTHESIA|      OT| SEROXAT|anxiety|2004|    N|\n",
      "|4262067|4053575.0|41.0|       F| 72.6419470689881|     SELF-MEDICATION|      OT| SEROXAT|anxiety|2004|    N|\n",
      "|4262067|4053575.0|41.0|       F| 72.6419470689881|SOCIAL AVOIDANT B...|      OT| SEROXAT|anxiety|2004|    N|\n",
      "|4262067|4053575.0|41.0|       F| 72.6419470689881|          SOMNOLENCE|      OT| SEROXAT|anxiety|2004|    N|\n",
      "|4262067|4053575.0|41.0|       F| 72.6419470689881|              TREMOR|      OT| SEROXAT|anxiety|2004|    N|\n",
      "|4262067|4053575.0|41.0|       F| 72.6419470689881|    WEIGHT INCREASED|      OT| SEROXAT|anxiety|2004|    N|\n",
      "|4262921|4060681.0|33.0|       F|79.83219199999999|           DIZZINESS|    null|   PAXIL|anxiety|2004|    N|\n",
      "|4262921|4060681.0|33.0|       F|79.83219199999999|             FATIGUE|    null|   PAXIL|anxiety|2004|    N|\n",
      "|4262921|4060681.0|33.0|       F|79.83219199999999|GASTROINTESTINAL ...|    null|   PAXIL|anxiety|2004|    N|\n",
      "+-------+---------+----+--------+-----------------+--------------------+--------+--------+-------+----+-----+\n",
      "only showing top 20 rows\n",
      "\n"
     ]
    }
   ],
   "source": [
    "#依照OUTC_COD类型计算其对应的平均年龄\n",
    "mean_by_age = df5.groupBy('OUTC_COD').agg(mean('AGE').alias('mean_age'))\n",
    "mean_lt = mean_by_age.filter(mean_by_age['OUTC_COD'] == 'LT').select('mean_age').collect()[0][0]\n",
    "mean_ri = mean_by_age.filter(mean_by_age['OUTC_COD'] == 'RI').select('mean_age').collect()[0][0]\n",
    "mean_ca = mean_by_age.filter(mean_by_age['OUTC_COD'] == 'CA').select('mean_age').collect()[0][0]\n",
    "mean_ho = mean_by_age.filter(mean_by_age['OUTC_COD'] == 'HO').select('mean_age').collect()[0][0]\n",
    "mean_de = mean_by_age.filter(mean_by_age['OUTC_COD'] == 'DE').select('mean_age').collect()[0][0]\n",
    "mean_ds = mean_by_age.filter(mean_by_age['OUTC_COD'] == 'DS').select('mean_age').collect()[0][0]\n",
    "mean_ot = mean_by_age.filter(mean_by_age['OUTC_COD'] == 'OT').select('mean_age').collect()[0][0]\n",
    "#用平均年龄替换OUTC_COD不同类型对应年龄为空值的cell\n",
    "from pyspark.sql import functions as F\n",
    "df6 = df5.withColumn('AGE',\n",
    "    F.when(df5['OUTC_COD'] == 'LT', F.when(df5['AGE'].isNull(), mean_lt).otherwise(df5['AGE']))\n",
    "     .when(df5['OUTC_COD'] == 'RI', F.when(df5['AGE'].isNull(), mean_ri).otherwise(df5['AGE']))\n",
    "     .when(df5['OUTC_COD'] == 'CA', F.when(df5['AGE'].isNull(), mean_ca).otherwise(df5['AGE']))\n",
    "     .when(df5['OUTC_COD'] == 'HO', F.when(df5['AGE'].isNull(), mean_ho).otherwise(df5['AGE']))\n",
    "     .when(df5['OUTC_COD'] == 'DE', F.when(df5['AGE'].isNull(), mean_de).otherwise(df5['AGE']))\n",
    "     .when(df5['OUTC_COD'] == 'DS', F.when(df5['AGE'].isNull(), mean_ds).otherwise(df5['AGE']))\n",
    "     .when(df5['OUTC_COD'] == 'OT', F.when(df5['AGE'].isNull(), mean_ot).otherwise(df5['AGE']))\n",
    "     .otherwise(df5['AGE']))\n",
    "df6.show()"
   ]
  },
  {
   "cell_type": "code",
   "execution_count": 16,
   "id": "dba2abc5-2e1d-49d2-a6cc-8679d87acb41",
   "metadata": {},
   "outputs": [
    {
     "name": "stdout",
     "output_type": "stream",
     "text": [
      "+---+----+---+--------+---+----+--------+--------+-------+----+-----+\n",
      "|ISR|CASE|AGE|GNDR_COD| WT|  PT|OUTC_COD|DRUGNAME|INDI_PT|YEAR|COVID|\n",
      "+---+----+---+--------+---+----+--------+--------+-------+----+-----+\n",
      "|  0|   0|  0|       0|  0|1827|  175041|       0|      0|   0|    0|\n",
      "+---+----+---+--------+---+----+--------+--------+-------+----+-----+\n",
      "\n"
     ]
    }
   ],
   "source": [
    "#查看当前空值情况\n",
    "cnt_na6 = df6.select([count(when(col(c).contains('None') | \\\n",
    "                     col(c).contains('NULL') | \\\n",
    "                     (col(c)=='') | \\\n",
    "                     col(c).isNull() |\\\n",
    "                     isnan(c), c\n",
    "                     )).alias(c)\n",
    "          for c in df6.columns])\n",
    "cnt_na6.show()"
   ]
  },
  {
   "cell_type": "code",
   "execution_count": 17,
   "id": "f2391787-b02d-413c-9d65-f190c4344cbe",
   "metadata": {},
   "outputs": [],
   "source": [
    "#由于PT空值和剩余OUTC_COD空值的关联性较弱，无法获取合适的填充值，故将这两列出现null的行全部剔除\n",
    "df6 = df6.na.drop(subset=['PT'])\n",
    "df6 = df6.na.drop(subset=['OUTC_COD'])"
   ]
  },
  {
   "cell_type": "code",
   "execution_count": 18,
   "id": "e9e7b2a1-1c1d-4da4-b84a-fa9b494aed7b",
   "metadata": {},
   "outputs": [
    {
     "name": "stdout",
     "output_type": "stream",
     "text": [
      "+---+----+---+--------+---+---+--------+--------+-------+----+-----+\n",
      "|ISR|CASE|AGE|GNDR_COD| WT| PT|OUTC_COD|DRUGNAME|INDI_PT|YEAR|COVID|\n",
      "+---+----+---+--------+---+---+--------+--------+-------+----+-----+\n",
      "|  0|   0|  0|       0|  0|  0|       0|       0|      0|   0|    0|\n",
      "+---+----+---+--------+---+---+--------+--------+-------+----+-----+\n",
      "\n"
     ]
    }
   ],
   "source": [
    "#查看当前空置情况，完成空值清理\n",
    "cnt_na7 = df6.select([count(when(col(c).contains('None') | \\\n",
    "                     col(c).contains('NULL') | \\\n",
    "                     (col(c)=='') | \\\n",
    "                     col(c).isNull() |\\\n",
    "                     isnan(c), c\n",
    "                     )).alias(c)\n",
    "          for c in df6.columns])\n",
    "cnt_na7.show()"
   ]
  },
  {
   "cell_type": "markdown",
   "id": "5af5dfcd-eea0-4221-9103-26f67dfe3424",
   "metadata": {},
   "source": [
    "3- Description of the disease?"
   ]
  },
  {
   "cell_type": "code",
   "execution_count": 19,
   "id": "1b281ba0-b399-400b-9ea6-e7e8d64216ea",
   "metadata": {},
   "outputs": [
    {
     "data": {
      "text/plain": [
       "85639"
      ]
     },
     "execution_count": 19,
     "metadata": {},
     "output_type": "execute_result"
    }
   ],
   "source": [
    "#How many patients\n",
    "df6.select([\"CASE\"]).distinct().count()"
   ]
  },
  {
   "cell_type": "code",
   "execution_count": 20,
   "id": "b0863334-fa0d-4ab6-9c4d-a5700b554a05",
   "metadata": {},
   "outputs": [
    {
     "data": {
      "text/plain": [
       "0.3803845938445443"
      ]
     },
     "execution_count": 20,
     "metadata": {},
     "output_type": "execute_result"
    }
   ],
   "source": [
    "# Is it serious?  （重症率, DE/HO/RI算重症）\n",
    "serious_outc_count = df6.filter((df6[\"OUTC_COD\"] == \"DE\") | (df6[\"OUTC_COD\"] == \"HO\") \n",
    "                                | (df6[\"OUTC_COD\"] == \"RI\")).select([\"ISR\"]).count()\n",
    "outc_count = df6.select([\"ISR\"]).count()\n",
    "serious_rate = serious_outc_count / outc_count\n",
    "serious_rate"
   ]
  },
  {
   "cell_type": "code",
   "execution_count": 21,
   "id": "49cc31f8-3c23-47fc-b935-766231865e4c",
   "metadata": {},
   "outputs": [
    {
     "data": {
      "text/plain": [
       "['COVID-19',\n",
       " 'COVID-19 immunisation',\n",
       " 'COVID-19 pneumonia',\n",
       " 'Corona virus infection',\n",
       " 'Post-acute COVID-19 syndrome',\n",
       " 'Suspected COVID-19']"
      ]
     },
     "execution_count": 21,
     "metadata": {},
     "output_type": "execute_result"
    }
   ],
   "source": [
    "# a)阳了以后有新的相关PT出现\n",
    "df7 = df6.filter(\"YEAR >= 2020\") #2020年疫情全面爆发\n",
    "df8 = df7.toPandas()\n",
    "PT_counts = df8.loc[df8.COVID == \"Y\"].groupby(\"PT\")[\"ISR\"].count()\n",
    "list(PT_counts.index)"
   ]
  },
  {
   "cell_type": "code",
   "execution_count": 22,
   "id": "003ec089-5015-4dc7-aa18-03fb81f42458",
   "metadata": {},
   "outputs": [
    {
     "data": {
      "image/png": "[encoded data removed]",
      "text/plain": [
       "<Figure size 1000x600 with 1 Axes>"
      ]
     },
     "metadata": {},
     "output_type": "display_data"
    }
   ],
   "source": [
    "# b)重症患者的年龄分布情况\n",
    "import matplotlib.pyplot as plt\n",
    "import seaborn as sns\n",
    "dfs = df6.filter(col(\"OUTC_COD\").isin(['RI', 'HO', 'DE'])).toPandas()\n",
    "plt.figure(figsize=(10, 6))\n",
    "sns.boxplot(x='OUTC_COD', y='AGE', data=dfs)\n",
    "plt.title('Box Plot of Age by Serious Outcomes')\n",
    "plt.xlabel('OUTC_COD Type')\n",
    "plt.ylabel('Age')\n",
    "plt.show()"
   ]
  },
  {
   "cell_type": "code",
   "execution_count": 23,
   "id": "e250607f-28f9-4dd0-b17b-62a975e0a757",
   "metadata": {},
   "outputs": [
    {
     "name": "stdout",
     "output_type": "stream",
     "text": [
      "Number of CLusters: 2 --- Silhouette Score: 0.4291188666652741\n",
      "Number of CLusters: 3 --- Silhouette Score: 0.2481458048482327\n",
      "Number of CLusters: 4 --- Silhouette Score: 0.2826664612296719\n",
      "Number of CLusters: 5 --- Silhouette Score: 0.29476717928824525\n",
      "Number of CLusters: 6 --- Silhouette Score: 0.3206208382283587\n",
      "Number of CLusters: 7 --- Silhouette Score: 0.36350459579649946\n",
      "Number of CLusters: 8 --- Silhouette Score: 0.3456152449559169\n",
      "Number of CLusters: 9 --- Silhouette Score: 0.34807073851126\n"
     ]
    }
   ],
   "source": [
    "#c)无法通过K-means得到很好的分类\n",
    "# 只看重症情况\n",
    "df9 = df7.filter((df7[\"OUTC_COD\"] == \"DE\") | (df7[\"OUTC_COD\"] == \"HO\") | (df7[\"OUTC_COD\"] == \"RI\")).select(\"*\")\n",
    "# str->index\n",
    "from pyspark.ml.feature import StringIndexer, VectorAssembler\n",
    "from pyspark.ml import Pipeline\n",
    "indexers = [StringIndexer(inputCol=column, outputCol=column+\"_index\")\n",
    "            .fit(df9) for column in ['GNDR_COD', 'COVID', 'PT', 'DRUGNAME', 'OUTC_COD']]\n",
    "pipeline = Pipeline(stages=indexers)\n",
    "df10 = pipeline.fit(df9).transform(df9)\n",
    "df10 = df10.drop('GNDR_COD', 'COVID', 'OUTC_COD', 'PT', 'DRUGNAME', 'INDI_PT')\n",
    "# 把从第二列开始的列存入feature里面\n",
    "feature = VectorAssembler(inputCols = df10.columns[2:9], outputCol = \"features\")\n",
    "# 创建feature向量\n",
    "feature_vector = feature.transform(df10)\n",
    "# make the data into standards range\n",
    "from pyspark.ml.feature import StandardScaler\n",
    "scale = StandardScaler(inputCol = \"features\", outputCol = \"standardized\")\n",
    "data_scale = scale.fit(feature_vector)\n",
    "data_scale_output = data_scale.transform(feature_vector)\n",
    "# k-means\n",
    "from pyspark.ml.clustering import KMeans\n",
    "from pyspark.ml.evaluation import ClusteringEvaluator\n",
    "evaluator = ClusteringEvaluator(predictionCol = \"prediction\", featuresCol = \"standardized\",\n",
    "                               metricName = \"silhouette\", distanceMeasure = \"squaredEuclidean\")\n",
    "# metricName = \"silhouette\": way to find - what is the best number of clusters?\n",
    "for i in range(2,10): #2-9\n",
    "    KMeans_algo = KMeans(featuresCol = \"standardized\", k = i)\n",
    "    KMeans_fit = KMeans_algo.fit(data_scale_output)\n",
    "    output = KMeans_fit.transform(data_scale_output)\n",
    "    score = evaluator.evaluate(output)\n",
    "    print(\"Number of CLusters:\", i, \"--- Silhouette Score:\", score)\n",
    "    # score: best 1, worst -1, overlapping cluster 0"
   ]
  },
  {
   "cell_type": "code",
   "execution_count": 24,
   "id": "7a6cd77f-4fa4-4892-93d6-141f39ad23ee",
   "metadata": {},
   "outputs": [
    {
     "name": "stdout",
     "output_type": "stream",
     "text": [
      "+--------------+----------+----+\n",
      "|OUTC_COD_index|prediction|Diff|\n",
      "+--------------+----------+----+\n",
      "|           0.0|         0| 0.0|\n",
      "|           1.0|         0| 1.0|\n",
      "|           0.0|         0| 0.0|\n",
      "|           1.0|         0| 1.0|\n",
      "|           0.0|         0| 0.0|\n",
      "+--------------+----------+----+\n",
      "only showing top 5 rows\n",
      "\n",
      "+-------+------------------+------------------+------------------+\n",
      "|summary|    OUTC_COD_index|        prediction|              Diff|\n",
      "+-------+------------------+------------------+------------------+\n",
      "|  count|            154047|            154047|            154047|\n",
      "|   mean|0.1431705907937188|1.0089453218822826|0.9869715086953982|\n",
      "| stddev|0.3704775695848313|0.9978023751763698|0.9318286372125627|\n",
      "|    min|               0.0|                 0|               0.0|\n",
      "|    max|               2.0|                 2|               2.0|\n",
      "+-------+------------------+------------------+------------------+\n",
      "\n"
     ]
    }
   ],
   "source": [
    "# go with 3 clusters\n",
    "KMeans_algo = KMeans(featuresCol = \"standardized\", k = 3)\n",
    "KMeans_fit = KMeans_algo.fit(data_scale_output)\n",
    "output = KMeans_fit.transform(data_scale_output)\n",
    "# look at the absolute value of the difference between Survived and prediction\n",
    "from pyspark.sql.functions import abs\n",
    "output.select([\"OUTC_COD_index\", \"prediction\"]).withColumn(\"Diff\", \n",
    "        abs(output[\"OUTC_COD_index\"]-output[\"prediction\"])).show(5)\n",
    "output.select([\"OUTC_COD_index\", \"prediction\"]).withColumn(\"Diff\", \n",
    "        abs(output[\"OUTC_COD_index\"]-output[\"prediction\"])).describe().show()"
   ]
  },
  {
   "cell_type": "code",
   "execution_count": 25,
   "id": "672ef928-ebfd-453c-a5c8-c1e2752119ba",
   "metadata": {},
   "outputs": [
    {
     "data": {
      "image/png": "[encoded data removed]",
      "text/plain": [
       "<Figure size 640x480 with 1 Axes>"
      ]
     },
     "metadata": {},
     "output_type": "display_data"
    }
   ],
   "source": [
    "#d)年龄对健康结果的影响\n",
    "import seaborn as sns\n",
    "import pandas as pd\n",
    "age_outcome_df = df6.select(\"AGE\", \"OUTC_COD\").toPandas()\n",
    "sns.boxplot(x=\"OUTC_COD\", y=\"AGE\", data=age_outcome_df)\n",
    "plt.title(\"Age vs Patient Outcome\")\n",
    "plt.xlabel(\"Patient Outcome\")\n",
    "plt.ylabel(\"Age\")\n",
    "plt.show()"
   ]
  },
  {
   "cell_type": "code",
   "execution_count": 26,
   "id": "1087baf2-e4ff-4311-beb9-da22c42dd294",
   "metadata": {},
   "outputs": [
    {
     "data": {
      "image/png": "[encoded data removed]",
      "text/plain": [
       "<Figure size 1200x600 with 1 Axes>"
      ]
     },
     "metadata": {},
     "output_type": "display_data"
    }
   ],
   "source": [
    "#e)Relationship between Drugname and outc-cod\n",
    "\n",
    "drug_outcome = df6.groupBy(\"DRUGNAME\", \"OUTC_COD\").count()\n",
    "drug_outcome_pd = drug_outcome.toPandas()\n",
    "\n",
    "# 最高频药物\n",
    "top_drugs = (\n",
    "    drug_outcome_pd.groupby(\"DRUGNAME\")\n",
    "    .sum()[\"count\"]\n",
    "    .nlargest(10)  # 选出前10名药物\n",
    "    .index\n",
    ")\n",
    "\n",
    "filtered_data = drug_outcome_pd[drug_outcome_pd[\"DRUGNAME\"].isin(top_drugs)]\n",
    "\n",
    "plt.figure(figsize=(12, 6))\n",
    "sns.barplot(data=filtered_data, x=\"OUTC_COD\", y=\"count\", hue=\"DRUGNAME\")\n",
    "plt.title(\"Distribution of Patient Outcomes for Top 10 Drugs\")\n",
    "plt.xlabel(\"Outcome Code\")\n",
    "plt.ylabel(\"Count\")\n",
    "plt.xticks(rotation=45)\n",
    "plt.legend(title=\"Drug Name\", bbox_to_anchor=(1.05, 1), loc='upper left') \n",
    "plt.tight_layout() \n",
    "plt.show()"
   ]
  },
  {
   "cell_type": "code",
   "execution_count": 27,
   "id": "33b9f647-de20-417c-abc7-d0a3b4bc5f6b",
   "metadata": {},
   "outputs": [
    {
     "name": "stdout",
     "output_type": "stream",
     "text": [
      "P-value: 0.0, Degrees of Freedom: 32820\n"
     ]
    }
   ],
   "source": [
    "#Chi-Square Test\n",
    "from pyspark.sql.functions import col\n",
    "from pyspark.ml.stat import ChiSquareTest\n",
    "from pyspark.ml.feature import StringIndexer, VectorAssembler\n",
    "indexer_drug = StringIndexer(inputCol=\"DRUGNAME\", outputCol=\"DRUGNAME_index\").fit(df6)\n",
    "df6 = indexer_drug.transform(df6)\n",
    "indexer_outcome = StringIndexer(inputCol=\"OUTC_COD\", outputCol=\"OUTC_COD_index\").fit(df6)\n",
    "df6 = indexer_outcome.transform(df6)\n",
    "assembler_drug = VectorAssembler(inputCols=[\"DRUGNAME_index\"], outputCol=\"features\")\n",
    "df_drug_outc = assembler_drug.transform(df6)\n",
    "chi_square_test = ChiSquareTest.test(df_drug_outc, \"features\", \"OUTC_COD_index\")\n",
    "chi_square_result = chi_square_test.head()\n",
    "print(f\"P-value: {chi_square_result.pValues[0]}, Degrees of Freedom: {chi_square_result.degreesOfFreedom[0]}\")\n",
    "#如果 P 值小于显著性水平0.05，可以认为 DRUGNAME 对 OUTC_COD 有显著影响,没跑出来重跑试试"
   ]
  },
  {
   "cell_type": "code",
   "execution_count": 28,
   "id": "f4205e4a-2b3d-4092-b364-58c2e9b37d1e",
   "metadata": {},
   "outputs": [
    {
     "data": {
      "image/png": "[encoded data removed]",
      "text/plain": [
       "<Figure size 640x480 with 1 Axes>"
      ]
     },
     "metadata": {},
     "output_type": "display_data"
    }
   ],
   "source": [
    "#f)年龄分布直方图\n",
    "import matplotlib.pyplot as plt\n",
    "ages = df6.select(\"AGE\").rdd.flatMap(lambda x: x).collect()\n",
    "plt.hist(ages, bins=20, color=\"skyblue\", edgecolor=\"black\")\n",
    "plt.title(\"Age Distribution\")\n",
    "plt.xlabel(\"Age\")\n",
    "plt.ylabel(\"Frequency\")\n",
    "plt.show()"
   ]
  },
  {
   "cell_type": "code",
   "execution_count": 29,
   "id": "e2544a5c-dfdf-41ad-bd23-db2b68bdfd4a",
   "metadata": {},
   "outputs": [
    {
     "name": "stdout",
     "output_type": "stream",
     "text": [
      "+--------+------+\n",
      "|OUTC_COD| count|\n",
      "+--------+------+\n",
      "|      LT| 92921|\n",
      "|      RI|  8128|\n",
      "|      CA| 32031|\n",
      "|      HO|555679|\n",
      "|      DE| 74648|\n",
      "|      DS|119586|\n",
      "|      OT|795453|\n",
      "+--------+------+\n",
      "\n",
      "None\n"
     ]
    },
    {
     "data": {
      "image/png": "[encoded data removed]",
      "text/plain": [
       "<Figure size 640x480 with 1 Axes>"
      ]
     },
     "metadata": {},
     "output_type": "display_data"
    }
   ],
   "source": [
    "#g)各outcome发生频率\n",
    "print(df6.groupBy(\"OUTC_COD\").count().show())\n",
    "outcomes = df6.groupBy(\"OUTC_COD\").count().toPandas()\n",
    "outcomes.plot(kind=\"bar\", x=\"OUTC_COD\", y=\"count\", color=\"orange\", legend=False)\n",
    "plt.title(\"Outcome Distribution\")\n",
    "plt.xlabel(\"Outcome Code\")\n",
    "plt.ylabel(\"Count\")\n",
    "plt.show()"
   ]
  },
  {
   "cell_type": "markdown",
   "id": "9cde4a38-27dc-4238-8999-5bf6667dd972",
   "metadata": {},
   "source": [
    "4- Method & Results:\n",
    "What methods did you use? Are you using any tools in the Hadoop ecosystem (pyspark)?"
   ]
  },
  {
   "cell_type": "code",
   "execution_count": 30,
   "id": "2845b1e7-ba6d-43e3-be5c-e7501e5e199e",
   "metadata": {},
   "outputs": [],
   "source": [
    "train_data,test_data=feature_vector.randomSplit([0.5,0.5], seed = 27)"
   ]
  },
  {
   "cell_type": "code",
   "execution_count": 31,
   "id": "11266563-6250-464a-931d-26eeb23a412f",
   "metadata": {},
   "outputs": [
    {
     "name": "stdout",
     "output_type": "stream",
     "text": [
      "Mean Squared Error : 0.1368896179235511\n",
      "Rsquared Error : 0.004930570828763026\n"
     ]
    }
   ],
   "source": [
    "#linear regression\n",
    "from pyspark.ml.regression import LinearRegression\n",
    "outc_lr = LinearRegression(featuresCol = 'features',labelCol = 'OUTC_COD_index')\n",
    "trained_outc_lr_model = outc_lr.fit(train_data)\n",
    "outc_lr_results=trained_outc_lr_model.evaluate(test_data)\n",
    "print('Mean Squared Error :',outc_lr_results.meanSquaredError)\n",
    "print('Rsquared Error :',outc_lr_results.r2)"
   ]
  },
  {
   "cell_type": "code",
   "execution_count": 33,
   "id": "8e947c45-fd0d-4a80-847f-ec54c6097eaa",
   "metadata": {},
   "outputs": [
    {
     "name": "stdout",
     "output_type": "stream",
     "text": [
      "+----------+--------------+--------------------+\n",
      "|prediction|OUTC_COD_index|            features|\n",
      "+----------+--------------+--------------------+\n",
      "|       0.0|           0.0|[47.8246575342465...|\n",
      "|       0.0|           0.0|[47.8246575342465...|\n",
      "|       0.0|           0.0|[47.8246575342465...|\n",
      "|       0.0|           0.0|[47.8246575342465...|\n",
      "|       0.0|           0.0|[47.8246575342465...|\n",
      "|       0.0|           0.0|[47.8246575342465...|\n",
      "|       0.0|           0.0|[50.0,54.0,2020.0...|\n",
      "|       0.0|           0.0|[50.0,54.0,2020.0...|\n",
      "|       0.0|           0.0|[50.0,54.0,2020.0...|\n",
      "|       0.0|           0.0|[50.0,54.0,2020.0...|\n",
      "+----------+--------------+--------------------+\n",
      "only showing top 10 rows\n",
      "\n",
      "Test Accuracy = 0.863421\n",
      "Test Error = 0.136579 \n"
     ]
    }
   ],
   "source": [
    "#linear Regression出来的结果不是0/1/2，是float，进行四舍五入后计算一波test error\n",
    "from pyspark.ml.evaluation import MulticlassClassificationEvaluator\n",
    "outc_lr_prediction = trained_outc_lr_model.transform(test_data)\n",
    "outc_lr_prediction = outc_lr_prediction.withColumn(\"prediction\", round(\"prediction\", 0))\n",
    "outc_lr_prediction.select(\"prediction\", \"OUTC_COD_index\", \"features\").show(10)\n",
    "evaluator = MulticlassClassificationEvaluator(labelCol=\"OUTC_COD_index\", predictionCol=\"prediction\", metricName=\"accuracy\")\n",
    "accuracy = evaluator.evaluate(outc_lr_prediction)\n",
    "print(\"Test Accuracy = %g\" % accuracy)\n",
    "print(\"Test Error = %g \" % (1.0 - accuracy))"
   ]
  },
  {
   "cell_type": "code",
   "execution_count": 34,
   "id": "05b41634-100b-4498-a78e-1158d8970044",
   "metadata": {},
   "outputs": [
    {
     "name": "stdout",
     "output_type": "stream",
     "text": [
      "+----------+--------------+--------------------+\n",
      "|prediction|OUTC_COD_index|            features|\n",
      "+----------+--------------+--------------------+\n",
      "|       0.0|           0.0|[47.8246575342465...|\n",
      "|       0.0|           0.0|[47.8246575342465...|\n",
      "|       0.0|           0.0|[47.8246575342465...|\n",
      "|       0.0|           0.0|[47.8246575342465...|\n",
      "|       0.0|           0.0|[47.8246575342465...|\n",
      "|       0.0|           0.0|[47.8246575342465...|\n",
      "|       0.0|           0.0|[50.0,54.0,2020.0...|\n",
      "|       0.0|           0.0|[50.0,54.0,2020.0...|\n",
      "|       0.0|           0.0|[50.0,54.0,2020.0...|\n",
      "|       0.0|           0.0|[50.0,54.0,2020.0...|\n",
      "+----------+--------------+--------------------+\n",
      "only showing top 10 rows\n",
      "\n",
      "Test Accuracy = 0.863421\n",
      "Test Error = 0.136579 \n"
     ]
    }
   ],
   "source": [
    "#multi - logistic regression\n",
    "from pyspark.ml.classification import LogisticRegression\n",
    "from pyspark.ml.evaluation import MulticlassClassificationEvaluator\n",
    "outc_glr = LogisticRegression(labelCol=\"OUTC_COD_index\", featuresCol=\"features\", family=\"multinomial\")\n",
    "trained_outc_glr_Model = outc_glr.fit(train_data)\n",
    "outc_glr_prediction = trained_outc_glr_Model.transform(test_data)\n",
    "outc_glr_prediction.select(\"prediction\", \"OUTC_COD_index\", \"features\").show(10)\n",
    "evaluator = MulticlassClassificationEvaluator(labelCol=\"OUTC_COD_index\", predictionCol=\"prediction\", metricName=\"accuracy\")\n",
    "accuracy = evaluator.evaluate(outc_glr_prediction)\n",
    "print(\"Test Accuracy = %g\" % accuracy)\n",
    "print(\"Test Error = %g \" % (1.0 - accuracy))"
   ]
  },
  {
   "cell_type": "code",
   "execution_count": 35,
   "id": "23f29ffd-c9bb-43b7-9c41-c76f1f0e4870",
   "metadata": {},
   "outputs": [
    {
     "name": "stdout",
     "output_type": "stream",
     "text": [
      "+----------+--------------+--------------------+\n",
      "|prediction|OUTC_COD_index|            features|\n",
      "+----------+--------------+--------------------+\n",
      "|       1.0|           0.0|[47.8246575342465...|\n",
      "|       1.0|           0.0|[47.8246575342465...|\n",
      "|       1.0|           0.0|[47.8246575342465...|\n",
      "|       1.0|           0.0|[47.8246575342465...|\n",
      "|       0.0|           0.0|[47.8246575342465...|\n",
      "|       0.0|           0.0|[47.8246575342465...|\n",
      "|       2.0|           0.0|[50.0,54.0,2020.0...|\n",
      "|       2.0|           0.0|[50.0,54.0,2020.0...|\n",
      "|       2.0|           0.0|[50.0,54.0,2020.0...|\n",
      "|       2.0|           0.0|[50.0,54.0,2020.0...|\n",
      "+----------+--------------+--------------------+\n",
      "only showing top 10 rows\n",
      "\n",
      "Test Accuracy = 0.302568\n",
      "Test Error = 0.697432 \n"
     ]
    }
   ],
   "source": [
    "# Naive Bates\n",
    "from pyspark.ml.classification import NaiveBayes\n",
    "nb = NaiveBayes(labelCol=\"OUTC_COD_index\", featuresCol=\"features\")\n",
    "nbModel = nb.fit(train_data)\n",
    "nb_prediction = nbModel.transform(test_data)\n",
    "nb_prediction.select(\"prediction\", \"OUTC_COD_index\", \"features\").show(10)\n",
    "evaluator = MulticlassClassificationEvaluator(labelCol=\"OUTC_COD_index\", predictionCol=\"prediction\", metricName=\"accuracy\" )\n",
    "accuracy = evaluator.evaluate(nb_prediction)\n",
    "print(\"Test Accuracy = %g\" % accuracy)\n",
    "print(\"Test Error = %g \" % (1.0 - accuracy))"
   ]
  },
  {
   "cell_type": "code",
   "execution_count": null,
   "id": "f5f13d64-bd6d-433b-a879-29be9a24e7c6",
   "metadata": {},
   "outputs": [],
   "source": []
  }
 ],
 "metadata": {
  "kernelspec": {
   "display_name": "pyspark",
   "language": "python",
   "name": "pyspark"
  },
  "language_info": {
   "codemirror_mode": {
    "name": "ipython",
    "version": 3
   },
   "file_extension": ".py",
   "mimetype": "text/x-python",
   "name": "python",
   "nbconvert_exporter": "python",
   "pygments_lexer": "ipython3",
   "version": "3.11.8"
  }
 },
 "nbformat": 4,
 "nbformat_minor": 5
}
