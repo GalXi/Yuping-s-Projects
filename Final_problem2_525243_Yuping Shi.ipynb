{
 "cells": [
  {
   "cell_type": "markdown",
   "id": "e8008a6b-f53e-4a59-a599-819066807ae0",
   "metadata": {},
   "source": [
    "### Problem 2"
   ]
  },
  {
   "cell_type": "code",
   "execution_count": 2,
   "id": "ce0a803c-fd21-4a43-baab-5bfd4e87bbf1",
   "metadata": {},
   "outputs": [],
   "source": [
    "from scipy.optimize import minimize\n",
    "import pandas as pd"
   ]
  },
  {
   "cell_type": "code",
   "execution_count": 3,
   "id": "6be5681e-d8ee-4e79-8c68-3a672b12d2e4",
   "metadata": {},
   "outputs": [
    {
     "data": {
      "text/plain": [
       " message: Optimization terminated successfully\n",
       " success: True\n",
       "  status: 0\n",
       "     fun: -20080.69303214019\n",
       "       x: [ 3.008e+02  1.504e+02]\n",
       "     nit: 7\n",
       "     jac: [ 2.107e+01 -4.213e+01]\n",
       "    nfev: 21\n",
       "    njev: 7"
      ]
     },
     "execution_count": 3,
     "metadata": {},
     "output_type": "execute_result"
    }
   ],
   "source": [
    "# Define the objective function\n",
    "def objective(x):\n",
    "    n = x[0]\n",
    "    u = x[1]\n",
    "    d_n = 250 * (2.7183 ** (2 - 0.01 * n)) / (1 + 2.7183 ** (2 - 0.01 * n) + 2.7183 ** (1 - 0.01 * u))\n",
    "    d_u = 250 * (2.7183 ** (1 - 0.01 * u)) / (1 + 2.7183 ** (2 - 0.01 * n) + 2.7183 ** (1 - 0.01 * u))\n",
    "    contribution_margin = (n - 75) * d_n + (u - 25) * d_u\n",
    "    return -contribution_margin \n",
    "\n",
    "# Specify bounds for x\n",
    "bnds = [(0, None), (0, None)]\n",
    "\n",
    "# Define the constraint for the price ratio\n",
    "def constraint_r(x):\n",
    "    return 0.5 - x[1] / x[0] \n",
    "\n",
    "constraints = [{\"type\": \"ineq\", \"fun\": constraint_r}]\n",
    "\n",
    "x0 = [180, 50]\n",
    "\n",
    "result = minimize(objective, x0, method=\"SLSQP\", bounds=bnds, constraints=constraints)\n",
    "\n",
    "result         "
   ]
  },
  {
   "cell_type": "code",
   "execution_count": 4,
   "id": "6cce7ef6-0345-4972-893f-d7007f685ffa",
   "metadata": {},
   "outputs": [
    {
     "data": {
      "text/html": [
       "<div>\n",
       "<style scoped>\n",
       "    .dataframe tbody tr th:only-of-type {\n",
       "        vertical-align: middle;\n",
       "    }\n",
       "\n",
       "    .dataframe tbody tr th {\n",
       "        vertical-align: top;\n",
       "    }\n",
       "\n",
       "    .dataframe thead th {\n",
       "        text-align: right;\n",
       "    }\n",
       "</style>\n",
       "<table border=\"1\" class=\"dataframe\">\n",
       "  <thead>\n",
       "    <tr style=\"text-align: right;\">\n",
       "      <th></th>\n",
       "      <th>Price</th>\n",
       "    </tr>\n",
       "  </thead>\n",
       "  <tbody>\n",
       "    <tr>\n",
       "      <th>New</th>\n",
       "      <td>300.783110</td>\n",
       "    </tr>\n",
       "    <tr>\n",
       "      <th>Used</th>\n",
       "      <td>150.391555</td>\n",
       "    </tr>\n",
       "  </tbody>\n",
       "</table>\n",
       "</div>"
      ],
      "text/plain": [
       "           Price\n",
       "New   300.783110\n",
       "Used  150.391555"
      ]
     },
     "execution_count": 4,
     "metadata": {},
     "output_type": "execute_result"
    }
   ],
   "source": [
    "result_list = result.x.tolist()\n",
    "Book_Type = ['New','Used']\n",
    "df_result = pd.DataFrame(result_list, index = Book_Type, columns = [\"Price\"])\n",
    "df_result"
   ]
  },
  {
   "cell_type": "markdown",
   "id": "24f626da-addf-4d58-a500-6b25793d7cf4",
   "metadata": {},
   "source": [
    "### Answer: The optimal contribution margin is 20080.69303214019"
   ]
  }
 ],
 "metadata": {
  "kernelspec": {
   "display_name": "Python 3 (ipykernel)",
   "language": "python",
   "name": "python3"
  },
  "language_info": {
   "codemirror_mode": {
    "name": "ipython",
    "version": 3
   },
   "file_extension": ".py",
   "mimetype": "text/x-python",
   "name": "python",
   "nbconvert_exporter": "python",
   "pygments_lexer": "ipython3",
   "version": "3.12.3"
  }
 },
 "nbformat": 4,
 "nbformat_minor": 5
}
